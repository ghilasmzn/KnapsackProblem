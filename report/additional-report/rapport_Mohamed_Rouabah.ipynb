{
  "metadata": {
    "language_info": {
      "codemirror_mode": {
        "name": "python",
        "version": 3
      },
      "file_extension": ".py",
      "mimetype": "text/x-python",
      "name": "python",
      "nbconvert_exporter": "python",
      "pygments_lexer": "ipython3",
      "version": "3.8"
    },
    "kernelspec": {
      "name": "python",
      "display_name": "Python (Pyodide)",
      "language": "python"
    }
  },
  "nbformat_minor": 4,
  "nbformat": 4,
  "cells": [
    {
      "cell_type": "markdown",
      "source": "#### <span style=\"color: red\"> Branch and Bound method depth-breadth traversal</span>",
      "metadata": {
        "tags": [],
        "jp-MarkdownHeadingCollapsed": true
      }
    },
    {
      "cell_type": "markdown",
      "source": "There are different approaches to solve the knapsack problem, one of them is the Branch and Bound method:\n\nThere are a large number of approaches with the Branch and Bound method in my case I focused my analysis on two types of approach, the search in depth of an algorithm and the search in breadth of an algorithm.\n\nThe in-depth traversal consists from a list of objects S, in traversing an object in the list until arriving at the last object or until reaching an object already visited. It then returns to the last object visited and then repeats the procedure. The path stops when all the objects S have been visited. In short, the exploration progresses from an object S by calling itself recursively for each neighboring object of S.\n\nOn the other hand, the breadth-first search starts from a source node. Then it lists all the neighbors of the source, to then explore them one by one. In contrast, the in-depth journey actually explores each path one by one. For these two approaches, a queue is used to place the different objects in the order they arrive.",
      "metadata": {}
    },
    {
      "cell_type": "markdown",
      "source": "#### <span style=\"color: red\"> priority queue </span>",
      "metadata": {
        "tags": [],
        "jp-MarkdownHeadingCollapsed": true
      }
    },
    {
      "cell_type": "markdown",
      "source": "##### <span style=\"color: red\"> Breadth </span>",
      "metadata": {
        "tags": [],
        "jp-MarkdownHeadingCollapsed": true
      }
    },
    {
      "cell_type": "code",
      "source": "class Priority_Queue:\n    def __init__(self):\n        self.Q = []\n        self.length = 0\n\n    def add(self, node):\n        self.Q.insert(i,node)\n        self.length +=1\n    \n\n    def print_Q(self):\n        for i in list(range(len(self.Q))):\n            print(\"Queue\", i, \"=\", self.Q[i].opt)\n\n    def remove(self):\n        if self.length != 0:\n            result = self.Q.pop(0)\n            self.length -=1\n            return result",
      "metadata": {
        "trusted": true
      },
      "execution_count": 1,
      "outputs": []
    },
    {
      "cell_type": "markdown",
      "source": "For the initialization of file it is necessary initially understands the traversal in width, here is a graphic representation of it on a tree.\n\n![Alt knapsack problem](https://upload.wikimedia.org/wikipedia/commons/3/33/Breadth-first-tree.svg)\n\nwe note that the path is from the root then from the left child to the right child for each node.\n\nSo the way we add and remove from the queue must take this order into consideration.\n\nStep : \n* I initialize the queue with a list and the size to know if the queue is empty or not.\n\n* Then I define the methods that will allow the traversal of the queue:\n     * The add method will add the branch (the node of the branch) to the queue and increment its size\n     * The remove method will remove the branch (branch node) that has been in the queue the longest to free up space in the queue.",
      "metadata": {
        "tags": []
      }
    },
    {
      "cell_type": "markdown",
      "source": "##### <span style=\"color: red\"> Depth </span>",
      "metadata": {
        "tags": [],
        "jp-MarkdownHeadingCollapsed": true
      }
    },
    {
      "cell_type": "code",
      "source": "class Priority_Queue:\n    def __init__(self):\n        self.Q = []\n        self.length = 0\n\n    def add(self, node):\n        self.Q.insert(i,node)\n        self.length +=1\n    \n\n    def print_Q(self):\n        for i in list(range(len(self.Q))):\n            print(\"Queue\", i, \"=\", self.Q[i].opt)\n\n    def remove(self):\n        if self.length >=2:\n            if self.Q[-1].side == 'right' and self.Q[-2].side=='left':\n                result = self.Q.pop(self.length-2)\n            else:\n                result = self.Q.pop()\n            self.length -=1\n            return result\n        elif self.length ==1:\n            result = self.Q.pop()\n            self.length -=1\n            return result",
      "metadata": {
        "trusted": true
      },
      "execution_count": 5,
      "outputs": []
    },
    {
      "cell_type": "markdown",
      "source": "Unlike breadth-first traversal, depth-first traversal tends to go deeper into the tree until it reaches the last element. 'tree.\n\n![Alt knapsack problem](https://upload.wikimedia.org/wikipedia/commons/thumb/1/1f/Depth-first-tree.svg/1024px-Depth-first-tree.svg.png)\n\n\nThus, to overcome this problem, we only browse the right branch if the left branch is empty:\n* First we check that the size of the queue is greater than or equal to 2:\n     * If Yes, Then If the parent of the branch is a right branch and the great-grandparent is a left branch then we start from the position of the left grandparent\n     * Otherwise we continue on the current position",
      "metadata": {}
    },
    {
      "cell_type": "markdown",
      "source": "#### <span style=\"color: red\"> Noeud </span>",
      "metadata": {
        "tags": []
      }
    },
    {
      "cell_type": "code",
      "source": "class Node:\n    def __init__(self, level, profit, weight):\n        self.level = level\n        self.profit = profit\n        self.weight = weight\n        self.items = []\n        self.opt = []\n        self.side=[]",
      "metadata": {},
      "execution_count": null,
      "outputs": []
    },
    {
      "cell_type": "markdown",
      "source": "The class node allows us to add the objects (Items) according to their criteria (index, value and weight) in order to compare the Objects we add:\n\n* a list of objects (items)\n* a list that allows us stored the most optimal value\n* a list side to know the position in the node, left or right",
      "metadata": {}
    },
    {
      "cell_type": "markdown",
      "source": "#### <span style=\"color: red\"> LRS (linear relaxation) </span>",
      "metadata": {
        "tags": [],
        "jp-MarkdownHeadingCollapsed": true
      }
    },
    {
      "cell_type": "markdown",
      "source": "In this approach I opt to finds an optimal solution using LP( linear programming) instead of IP (Integer programming)\n\n- so first i decompose the IP to multiple LP and compares those outcomes to reach a conclusion\n- each LP is solved separetly with the simplex method \n- this method may take a very long time to resolve on huge dataset\n- the time consuming may be better using IP optimal solution with finding the near-optimal feasible solution.\n\nDefintion :\" for a given IP, its linear relaxation is the resulting LP after removing all the inter constraints\" \n\nin our case we want to remove the constraints of Z+ 0-1 in the form:\n\n![Alt text](https://wikimedia.org/api/rest_v1/media/math/render/svg/07dda71da2a630762c7b21b51ea54f86f422f951)\n\n[![t-l-charger-3.png](https://i.postimg.cc/2j97Ktv5/t-l-charger-3.png)](https://postimg.cc/dDdC745M)\n\n![Alt text](https://wikimedia.org/api/rest_v1/media/math/render/svg/a35ecb62aba4ec573a5bb1be96ea19ab93c7f7dc)\n\nIt therefore allows us to remove the binary constraints of a knapsack problem {0,1} in a list of [0,1] that is to say that all the values are no longer binary but include the set 0 to 1 .",
      "metadata": {}
    },
    {
      "cell_type": "code",
      "source": "#Linear Relaxation Solution (An optimistic solution to the problem)\ndef LRS(node, capacity,p_per_w, choosed_items):\n    \n    if node.weight >= capacity:\n        return 0\n    else:\n        Opt_val = node.profit\n        totalweight = node.weight\n        order=sorted(range(len(p_per_w)), key=lambda k: p_per_w[k], reverse=True)\n        for rem in range(node.level+1):\n            order.remove(rem)\n        for j in order:\n            if totalweight + choosed_items[j].weight <= capacity:\n                totalweight = totalweight + choosed_items[j].weight\n                Opt_val = Opt_val + choosed_items[j].value  \n            else:\n                Opt_val=Opt_val + round((capacity-totalweight)*p_per_w[j],3)\n                break\n    return Opt_val   ",
      "metadata": {
        "trusted": true
      },
      "execution_count": 1,
      "outputs": []
    },
    {
      "cell_type": "markdown",
      "source": "First, we check that the weight of the branch is not greater than the authorized capacity.\nIf this condition is met,\n* we add the total weight, and the total profit in two temporary variables\n* we sort the profit ratio by weight\n* For the current level up to the last level of the node, we call the sort list at the position of the node and replace it with that of the sort list\n* Then we go through the sorted list:\n     * If the total weight added to the weight at position J of the sorted list in the list of items being processed is less than the capacity chosen at the start:\n         * Then the total weight and the total and equal profit, at their weight and profit add to the weight and profit of the list of items at position j\n     * Otherwise the total profit added to the selected capacity minus the total weight multiplied by the profit/weight ratio at the position of the draw list \n     \n\n\nExplanation : \n\nif we are lucky, the linear relaxation maybe infeasible or unbounded \n - the IP(Integer Programming) is then infeasible or unbounded \n \nif we are lucky, an optimal solution to the linear relaxation maybe be feasible to the original IP when this happen the IP is solved.\nproof :\n\n[![t-l-charger-5.png](https://i.postimg.cc/448nbkcW/t-l-charger-5.png)](https://postimg.cc/YjWpMPbF)\n\nif we are unlucky we suppose we solve a linear relaxation with the LR optimal solution x'\n- LR-optimal mean x' is optimal to the linear relaxation.\n- then I round the variable:\n\n[![t-l-charger-6.png](https://i.postimg.cc/13Kztky0/t-l-charger-6.png)](https://postimg.cc/zyVN2Pb3)\n",
      "metadata": {}
    },
    {
      "cell_type": "markdown",
      "source": "#### <span style=\"color: red\"> Path of the algorithm </span>",
      "metadata": {
        "tags": [],
        "jp-MarkdownHeadingCollapsed": true
      }
    },
    {
      "cell_type": "code",
      "source": "def branch_bound_bfs(): \n    traversal_queue = Priority_Queue()\n    prt = Node(-1, 0, 0) # v initialized to be the root with level = 0, profit = $0, weight = 0\n    nodes_generated=1\n    max_profit = 0 # max_profit initialized to $0\n    prt.opt = LRS(prt, capacity,p_per_w, choosed_items)\nwhile traversal_queue.length != 0:\n        \n        prt = traversal_queue.remove() #remove node with best bound\n        if prt.opt > max_profit: #check if node is still promising\n            #set u to the child that includes the next item\n            gauche = Node(0, 0, 0)\n            gauche.level = prt.level + 1\n            gauche.profit = prt.profit + choosed_items[gauche.level].value\n            gauche.weight = prt.weight + choosed_items[gauche.level].weight\n            gauche.items = gauche.items.copy()\n            gauche.items.append(gauche.level) # adds next item\n            nodes_generated +=1\n            gauche.opt = LRS(gauche,capacity,p_per_w ,choosed_items)\n            if gauche.opt >max_profit:\n                gauche.side='left'\n                traversal_queue.add(gauche)\n\n            if  gauche.value > max_profit and gauche.weight <= capacity: \n                item = gauche.items #for representing each item/ item optimal\n                max_profit = gauche.value\n                \n            droite = Node(gauche.level,prt.value, prt.weight)\n            \n            droite.opt = LRS(droite,capacity,p_per_w, choosed_items)\n            droite.items= prt.items.copy()\n            \n            nodes_generated+=1\n            if droite.opt > max_profit:\n                droite.side='right'\n                traversal_queue.add(droite)\n    print('\\nOptimistic value = {}'.format(prt.opt))",
      "metadata": {
        "trusted": true
      },
      "execution_count": null,
      "outputs": []
    },
    {
      "cell_type": "markdown",
      "source": "Context:\nSo now, we're going to prepare a branching tree to illustrate the idea of branch and bound. So in this branching tree, we start with a root node that represents our original problem. That original problem is actually the linear relaxation of our original problem.So each node represents a subproblem, and we write down the solution inside the box, So once we have that, every time when we branch a variable, we're going to create two child nodes by adding two constraints.\n\n[![t-l-charger.png](https://i.postimg.cc/xTpyBmSS/t-l-charger.png)](https://postimg.cc/mtMHHtDd)\n\nafter we solve the first probleme let call it P1 we get fractional solution, so we add two constraints to create subproblem P2 and P3, if we see P3 have unfeasible solution, it mean it have been solved, so no reason to keep branching on P3. but for P2 the solution is still fractional. If the P2 solution is less than root P1 solution, so we probably need to do something more to solve problem P2, So there are some other things that we may observe. So z2, If you plug in x2 back into your objective function, you are going to get z2 < z1. What does that mean? That's actually a general case. This is a maximization problem, And for a maximization problem, once we add a constraint into an existing program, we are restricting our Earth more. And once we do that, we're not going to do as good as our original case, So in general, when we branch to a new level, that objective value would decrease, at least a weekly decrease.\n\n\n[![t-l-charger-1.png](https://i.postimg.cc/nhQ75wkv/t-l-charger-1.png)](https://postimg.cc/mPBt1jKD)\n\n\nCode Explanation :\nThe queue is traversed in depth or in breadth.\n\nThen If the optimal value is greater than the value of max_profit:\n* we create a new branch which will be the left child\n* the level of the branch is added with that of its parent\n* we add the value of the parent + the value of the list of items of the same level.\n* we add the weight of the parent + the weight of the list of items of the same level\n* we copy the sequence of selected items\n* then we add the branch to these parents\n* don't forget to increment the nodes_generated variable in order to see the number of nodes in the tree\n* then we start again to look for a new optimal value with the new branch\n\nin the case where the value is maximum:\n* we indicate the side of the branch in the node\n* then we add the branch to the queue\n\nin the case where the value of the maximum branch but the weight is less than the capacity of the knapsack:\n* the value of the branch and inject into the max_profit variable which will be our new comparison value.\n\nthen the same procedure is carried out with the right branch.",
      "metadata": {}
    },
    {
      "cell_type": "markdown",
      "source": "#### <span style=\"color: red\"> 4. TEST </span>",
      "metadata": {
        "tags": []
      }
    },
    {
      "cell_type": "markdown",
      "source": "In order to compare the two approaches of the same algorithm we made a comparison on 3 criteria:\n* The first and the solutions return\n* The second and the Time to arrive at the expected solution\n* The third and the amount of ram memory used by each algorithm\n\n\n\n1- solutions : \n\nboth approach have same result since they both use LRS\n\nusing random generator on a small scale of items and capacity : \n\n[![Screenshot-1.png](https://i.postimg.cc/50TXWDVB/Screenshot-1.png)](https://postimg.cc/7G1Hgsbh)\n\nusing random generator on a small scale of items and capacity : \n\n[![Screenshot-4.png](https://i.postimg.cc/4NZJHXBK/Screenshot-4.png)](https://postimg.cc/QV4LRZLs)\n\nusing dataset knapPI_1_10000_1000_1 :\n\n[![Screenshot-2.png](https://i.postimg.cc/nVqFLXYb/Screenshot-2.png)](https://postimg.cc/RqV5sVDX)\n\nusing exponential generator :\n\n[![Screenshot-5.png](https://i.postimg.cc/JhymC04F/Screenshot-5.png)](https://postimg.cc/LqMGzHPk)\n\n2- Time :\n\nThe time was not surprising, the two approaches always had the same time or a time very close to each other, it is mainly because of their space complexities which is:\n\n![Alt text](https://wikimedia.org/api/rest_v1/media/math/render/svg/3723b61a52380fbdf4c6892af96ebbfe8fb76a22)\n\nthe time depend also on the dataset if, the algorithm is apply on a small dataset the time might be close \nbut on a huge dataset the breadth approach will get a better time since the depth approach need to reach the bound before treat the next node.\n\nbreadth time :\n\non a medium dataset : \n\n[![Screenshot-9.png](https://i.postimg.cc/NfJf3Wk5/Screenshot-9.png)](https://postimg.cc/YhFHgDVH)\n\non a small dataset :\n\n[![Screenshot-11.png](https://i.postimg.cc/MTT9Ff6c/Screenshot-11.png)](https://postimg.cc/wtC5tvsH)\n\ndepth time :\n\non a medium dataset : \n\n[![Screenshot-10.png](https://i.postimg.cc/XJ4bG8kR/Screenshot-10.png)](https://postimg.cc/3yS6z261)\n\non a small dataset : \n\n[![Screenshot-12.png](https://i.postimg.cc/s2nkxr1h/Screenshot-12.png)](https://postimg.cc/FfLWCwyr)\n\n3- Memory : \n\nthe depth approach is a bit more greedy since it have to traverse a node deep until reach the bound, in general the memory used is the same for both.\n\nBFS :\n\n[![Screenshot-13.png](https://i.postimg.cc/tJDWQ2Bp/Screenshot-13.png)](https://postimg.cc/JHDGjcw2)\n\nDFS :\n\n[![Screenshot-14.png](https://i.postimg.cc/CKyZ23wb/Screenshot-14.png)](https://postimg.cc/75VYGQGL)\n",
      "metadata": {}
    }
  ]
}